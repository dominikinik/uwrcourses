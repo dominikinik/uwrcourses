{
 "cells": [
  {
   "cell_type": "markdown",
   "metadata": {
    "id": "tMdHwWEmdcGy"
   },
   "source": [
    "<a href=\"https://colab.research.google.com/github/marekpiotradamczyk/ml_uwr_23/blob/main/Assignments/Assignment2.ipynb\" target=\"_parent\"><img src=\"https://colab.research.google.com/assets/colab-badge.svg\" alt=\"Open In Colab\"/></a>"
   ]
  },
  {
   "cell_type": "markdown",
   "metadata": {
    "id": "P7IFJ5_Y33-8"
   },
   "source": [
    "# Lab Assignment 3\n"
   ]
  },
  {
   "cell_type": "markdown",
   "metadata": {
    "id": "goqGXGZT2DKK"
   },
   "source": [
    "## Important notes\n",
    "\n",
    "**Submission deadline:\n",
    "**lab session in the week of 6-10 of October 2023**\n",
    "\n",
    "**Points: 3+2+2=7**\n",
    "\n",
    "Please let us know about any problems with it - we will try to correct them quickly. Also, please do not hesitate to use GitHub’s pull requests to send us corrections!"
   ]
  },
  {
   "cell_type": "markdown",
   "metadata": {
    "id": "Es80_WJM33_n"
   },
   "source": [
    "## k-Nearest Neighbors\n",
    "\n",
    "We will use the loaded Iris data describing iris flowers\n",
    "and shows relations between their length and petal width for three\n",
    "species (namely: setosa, versicolor, virginica).\n",
    "\n",
    "For this exercise we will restrict our analysis to just two variables: **petal length** and **petal width**."
   ]
  },
  {
   "cell_type": "code",
   "execution_count": 1,
   "metadata": {
    "id": "YxzWq6iO2KPm"
   },
   "outputs": [],
   "source": [
    "# Standard IPython notebook imports\n",
    "%matplotlib inline\n",
    "\n",
    "import os\n",
    "\n",
    "import httpimport\n",
    "import matplotlib.pyplot as plt\n",
    "import numpy as np\n",
    "import pandas as pd\n",
    "from tqdm.auto import tqdm\n",
    "import scipy.stats as sstats\n",
    "\n",
    "import seaborn as sns\n",
    "from sklearn import datasets\n",
    "\n",
    "# In this way we can import functions straight from github\n",
    "with httpimport.github_repo('janchorowski', 'nn_assignments'):\n",
    "     from common.plotting import plot_mat\n",
    "\n",
    "sns.set_style('whitegrid')\n",
    "import warnings\n",
    "warnings.filterwarnings('ignore')"
   ]
  },
  {
   "cell_type": "code",
   "execution_count": 2,
   "metadata": {
    "colab": {
     "base_uri": "https://localhost:8080/",
     "height": 363
    },
    "executionInfo": {
     "elapsed": 20,
     "status": "ok",
     "timestamp": 1666788997173,
     "user": {
      "displayName": "Małgorzata Biernacka",
      "userId": "15355294250475535980"
     },
     "user_tz": -120
    },
    "id": "FzhoE5MWerAf",
    "outputId": "38f6f2aa-9ace-4e63-b72b-84e4135b61b2"
   },
   "outputs": [
    {
     "data": {
      "text/html": [
       "<div>\n",
       "<style scoped>\n",
       "    .dataframe tbody tr th:only-of-type {\n",
       "        vertical-align: middle;\n",
       "    }\n",
       "\n",
       "    .dataframe tbody tr th {\n",
       "        vertical-align: top;\n",
       "    }\n",
       "\n",
       "    .dataframe thead th {\n",
       "        text-align: right;\n",
       "    }\n",
       "</style>\n",
       "<table border=\"1\" class=\"dataframe\">\n",
       "  <thead>\n",
       "    <tr style=\"text-align: right;\">\n",
       "      <th></th>\n",
       "      <th>sepal_length</th>\n",
       "      <th>sepal_width</th>\n",
       "      <th>petal_length</th>\n",
       "      <th>petal_width</th>\n",
       "      <th>target</th>\n",
       "    </tr>\n",
       "  </thead>\n",
       "  <tbody>\n",
       "    <tr>\n",
       "      <th>0</th>\n",
       "      <td>5.1</td>\n",
       "      <td>3.5</td>\n",
       "      <td>1.4</td>\n",
       "      <td>0.2</td>\n",
       "      <td>Iris-setosa</td>\n",
       "    </tr>\n",
       "    <tr>\n",
       "      <th>1</th>\n",
       "      <td>4.9</td>\n",
       "      <td>3.0</td>\n",
       "      <td>1.4</td>\n",
       "      <td>0.2</td>\n",
       "      <td>Iris-setosa</td>\n",
       "    </tr>\n",
       "    <tr>\n",
       "      <th>2</th>\n",
       "      <td>4.7</td>\n",
       "      <td>3.2</td>\n",
       "      <td>1.3</td>\n",
       "      <td>0.2</td>\n",
       "      <td>Iris-setosa</td>\n",
       "    </tr>\n",
       "    <tr>\n",
       "      <th>3</th>\n",
       "      <td>4.6</td>\n",
       "      <td>3.1</td>\n",
       "      <td>1.5</td>\n",
       "      <td>0.2</td>\n",
       "      <td>Iris-setosa</td>\n",
       "    </tr>\n",
       "    <tr>\n",
       "      <th>4</th>\n",
       "      <td>5.0</td>\n",
       "      <td>3.6</td>\n",
       "      <td>1.4</td>\n",
       "      <td>0.2</td>\n",
       "      <td>Iris-setosa</td>\n",
       "    </tr>\n",
       "    <tr>\n",
       "      <th>5</th>\n",
       "      <td>5.4</td>\n",
       "      <td>3.9</td>\n",
       "      <td>1.7</td>\n",
       "      <td>0.4</td>\n",
       "      <td>Iris-setosa</td>\n",
       "    </tr>\n",
       "    <tr>\n",
       "      <th>6</th>\n",
       "      <td>4.6</td>\n",
       "      <td>3.4</td>\n",
       "      <td>1.4</td>\n",
       "      <td>0.3</td>\n",
       "      <td>Iris-setosa</td>\n",
       "    </tr>\n",
       "    <tr>\n",
       "      <th>7</th>\n",
       "      <td>5.0</td>\n",
       "      <td>3.4</td>\n",
       "      <td>1.5</td>\n",
       "      <td>0.2</td>\n",
       "      <td>Iris-setosa</td>\n",
       "    </tr>\n",
       "    <tr>\n",
       "      <th>8</th>\n",
       "      <td>4.4</td>\n",
       "      <td>2.9</td>\n",
       "      <td>1.4</td>\n",
       "      <td>0.2</td>\n",
       "      <td>Iris-setosa</td>\n",
       "    </tr>\n",
       "    <tr>\n",
       "      <th>9</th>\n",
       "      <td>4.9</td>\n",
       "      <td>3.1</td>\n",
       "      <td>1.5</td>\n",
       "      <td>0.1</td>\n",
       "      <td>Iris-setosa</td>\n",
       "    </tr>\n",
       "  </tbody>\n",
       "</table>\n",
       "</div>"
      ],
      "text/plain": [
       "   sepal_length  sepal_width  petal_length  petal_width       target\n",
       "0           5.1          3.5           1.4          0.2  Iris-setosa\n",
       "1           4.9          3.0           1.4          0.2  Iris-setosa\n",
       "2           4.7          3.2           1.3          0.2  Iris-setosa\n",
       "3           4.6          3.1           1.5          0.2  Iris-setosa\n",
       "4           5.0          3.6           1.4          0.2  Iris-setosa\n",
       "5           5.4          3.9           1.7          0.4  Iris-setosa\n",
       "6           4.6          3.4           1.4          0.3  Iris-setosa\n",
       "7           5.0          3.4           1.5          0.2  Iris-setosa\n",
       "8           4.4          2.9           1.4          0.2  Iris-setosa\n",
       "9           4.9          3.1           1.5          0.1  Iris-setosa"
      ]
     },
     "execution_count": 2,
     "metadata": {},
     "output_type": "execute_result"
    }
   ],
   "source": [
    "iris_url = 'https://archive.ics.uci.edu/ml/machine-learning-databases/iris/iris.data'\n",
    "# Use read_csv to load the data. Make sure you get 150 examples!\n",
    "iris_df = pd.read_csv(iris_url, header=None)\n",
    "\n",
    "# Set the column names to\n",
    "# 'sepal_length', 'sepal_width', 'petal_length', 'petal_width', 'target'\n",
    "iris_df.columns = ['sepal_length', 'sepal_width', 'petal_length', 'petal_width', 'target']\n",
    "\n",
    "# Print the first 10 entries\n",
    "iris_df.head(10)"
   ]
  },
  {
   "cell_type": "code",
   "execution_count": 3,
   "metadata": {
    "colab": {
     "base_uri": "https://localhost:8080/",
     "height": 298
    },
    "executionInfo": {
     "elapsed": 14,
     "status": "ok",
     "timestamp": 1666788997173,
     "user": {
      "displayName": "Małgorzata Biernacka",
      "userId": "15355294250475535980"
     },
     "user_tz": -120
    },
    "id": "e9dHQGslwvuc",
    "outputId": "90c406fe-ea6c-4b92-d087-cd3ba7eb7f82"
   },
   "outputs": [
    {
     "data": {
      "text/plain": [
       "<Axes: xlabel='petal_length', ylabel='petal_width'>"
      ]
     },
     "execution_count": 3,
     "metadata": {},
     "output_type": "execute_result"
    },
    {
     "data": {
      "image/png": "[encoded data removed]",
      "text/plain": [
       "<Figure size 640x480 with 1 Axes>"
      ]
     },
     "metadata": {},
     "output_type": "display_data"
    }
   ],
   "source": [
    "unknown_df = pd.DataFrame(\n",
    "    [[1.5, 0.3, 'unknown'],\n",
    "     [4.5, 1.2, 'unknown'],\n",
    "     [5.1, 1.7, 'unknown'],\n",
    "     [5.5, 2.3, 'unknown']],\n",
    "     columns=['petal_length', 'petal_width', 'target'])\n",
    "\n",
    "sns.scatterplot(x='petal_length', y='petal_width', hue='target', data=iris_df)\n",
    "sns.scatterplot(x='petal_length', y='petal_width', color='gray', marker='v',\n",
    "                label='unknown', s=70, data=unknown_df)"
   ]
  },
  {
   "cell_type": "markdown",
   "metadata": {
    "id": "s2khewKZ33_w"
   },
   "source": [
    "Based on these two features, it is easy to distinguish iris setosa from the two remaining species. Yet iris versicolor and virginica remain mixed together. \n",
    "\n",
    "Looking closely at the plot, we might estimate the species of the selected unknown irises (gray triangles). For three of them the answer seems obvious – they belong in uniformly-colored areas covered by one species only. Yet unknown iris flower in (5.1, 1.7) is troublesome – it lays on the boundary of versicolor and virginica clusters. We can assume, that its species is the one of the closest one to it, coming from the training set (and so having a label). \n",
    "\n",
    "K-Nearest Neighbors method (http://en.wikipedia.org/wiki/K-nearest_neighbors_algorithm) solves the classification problem, i.e. sets class labels (species in case of irises) of a previously unseen sample by choosing the most common class among the top k neighbors of the sample in question (for instance according to the Euclidean distance). Thus, the k-Nearest Neighbors algorithm works as follows. For each unlabeled sample x:\n",
    "1. Find k nearest neighbors among the labeled samples.\n",
    "2. Set the most common label among them as label of x."
   ]
  },
  {
   "cell_type": "markdown",
   "metadata": {
    "id": "F6sG0bxf33_y"
   },
   "source": [
    "### Implement the k-Nearest Neighbors algorithm [1p].\n",
    "\n",
    "Take advantage of matrix calculus rather than using for loops. (Although you will earn 0.5 points, if you will use for loops, but still provide a good classifier)\n",
    "\n",
    "**Tip:** What is computed by \\begin{equation} \\sqrt{(X - Y)^T (X - Y)} \\end{equation} when both X and Y are vectors?\n",
    "\n",
    "**Tip:** Try to use broadcasting (NumPy: http://docs.scipy.org/doc/numpy/user/basics.broadcasting.html) and built-ins sort, numpy.sort, numpy.argsort (sorting), scipy.stats.mode (choosing the most common element of the set)."
   ]
  },
  {
   "cell_type": "markdown",
   "metadata": {},
   "source": [
    "**Tip:** in the below function we have to compute the pairwise distances between train_X and test_X. Since we want to execute the below function for various k, you can use some quirky memorization to not repeat it many times."
   ]
  },
  {
   "cell_type": "code",
   "execution_count": 4,
   "metadata": {
    "id": "hKhbqAUTz5yy"
   },
   "outputs": [],
   "source": [
    "def KNN_predict(train_X, train_Y, test_X, ks, verbose=False):\n",
    "    if not hasattr(ks, '__iter__'): ks = [ks]\n",
    "    \"\"\"\n",
    "    Compute predictions for various k\n",
    "    Args:\n",
    "        train_X: array of shape Ntrain x D\n",
    "        train_Y: array of shape Ntrain\n",
    "        test_X: array of shape Ntest x D\n",
    "        ks: list of integers\n",
    "    Returns:\n",
    "        preds: dict k: predictions for k\n",
    "    \"\"\"\n",
    "    # Cats data to float32\n",
    "    train_X = train_X.astype(np.float32)\n",
    "    test_X = test_X.astype(np.float32)\n",
    "\n",
    "    # Alloc space for results\n",
    "    preds = {}\n",
    "\n",
    "    if verbose:\n",
    "        print(\"Computing distances... \", end='')\n",
    "    #\n",
    "    # TODO: fill in an efficient distance matrix computation\n",
    "    #\n",
    "    # source: https://medium.com/@souravdey/l2-distance-matrix-vectorization-trick-26aa3247ac6c\n",
    "    dists = -2 * np.dot(test_X, train_X.T) + np.sum(test_X**2, axis=1)[:, np.newaxis] + np.sum(train_X**2, axis=1)\n",
    "\n",
    "    if verbose:\n",
    "        print(\"Sorting... \", end='')\n",
    "    \n",
    "    # TODO: findes closest trainig points\n",
    "    # Hint: use np.argsort\n",
    "    closest = np.argsort(dists, axis=1)\n",
    "\n",
    "\n",
    "    if verbose:\n",
    "        print(\"Computing predictions...\", end='')\n",
    "    \n",
    "    targets = train_Y[closest]\n",
    "    #print(pd.DataFrame(targets[:k,:]).mode().to_numpy().reshape(-1,1))\n",
    "    \n",
    "    #TODO: calculate the dominating value among nearest neighbors by using mode function from pandas or sstats\n",
    "    # preds = sstats.mode(targets[:,:k], axis=1)[0] # brak for loopa\n",
    "    preds = {k: sstats.mode(targets[:,:k], axis=1)[0] for k in ks} # jest for loop\n",
    "    \n",
    "    if verbose:\n",
    "        print(\"Done\")\n",
    "    return preds"
   ]
  },
  {
   "cell_type": "code",
   "execution_count": 5,
   "metadata": {
    "colab": {
     "base_uri": "https://localhost:8080/"
    },
    "executionInfo": {
     "elapsed": 10,
     "status": "ok",
     "timestamp": 1666788997174,
     "user": {
      "displayName": "Małgorzata Biernacka",
      "userId": "15355294250475535980"
     },
     "user_tz": -120
    },
    "id": "RSiSLLke2K1r",
    "outputId": "44eb08b4-4f20-4606-f498-e204bf4b6b81"
   },
   "outputs": [
    {
     "data": {
      "text/plain": [
       "{7: array([0, 1, 2, 2])}"
      ]
     },
     "execution_count": 5,
     "metadata": {},
     "output_type": "execute_result"
    }
   ],
   "source": [
    "# Now classify the 4 unknown points\n",
    "iris_x = np.array(iris_df[['petal_length', 'petal_width']])\n",
    "iris_y = np.array(pd.Categorical(pd.factorize(iris_df['target'])[0]))\n",
    "\n",
    "\n",
    "unknown_x = np.array(unknown_df[['petal_length', 'petal_width']])\n",
    "\n",
    "KNN_predict(iris_x, iris_y, unknown_x, 1)\n",
    "KNN_predict(iris_x, iris_y, unknown_x, 3)\n",
    "KNN_predict(iris_x, iris_y, unknown_x, 5)\n",
    "KNN_predict(iris_x, iris_y, unknown_x, 7)"
   ]
  },
  {
   "cell_type": "markdown",
   "metadata": {
    "id": "wZ3Ef8Np7ZU8"
   },
   "source": [
    "### Plot the Decision boundary [1p]\n",
    "\n",
    "\n",
    "Use meshgrid to generate the points in the space spanned by data.\n",
    "Then map the classes to numbers 0, 1, 2 and make a contour plot with the\n",
    "decision boundary."
   ]
  },
  {
   "cell_type": "code",
   "execution_count": 6,
   "metadata": {
    "colab": {
     "base_uri": "https://localhost:8080/",
     "height": 1000
    },
    "executionInfo": {
     "elapsed": 2152,
     "status": "ok",
     "timestamp": 1666788999318,
     "user": {
      "displayName": "Małgorzata Biernacka",
      "userId": "15355294250475535980"
     },
     "user_tz": -120
    },
    "id": "w3aeNd0E3r8w",
    "outputId": "2ad571b2-08da-4576-e6be-3cc59f08308c"
   },
   "outputs": [
    {
     "data": {
      "image/png": "[encoded data removed]",
      "text/plain": [
       "<Figure size 640x480 with 1 Axes>"
      ]
     },
     "metadata": {},
     "output_type": "display_data"
    },
    {
     "data": {
      "image/png": "[encoded data removed]",
      "text/plain": [
       "<Figure size 640x480 with 1 Axes>"
      ]
     },
     "metadata": {},
     "output_type": "display_data"
    },
    {
     "data": {
      "image/png": "[encoded data removed]",
      "text/plain": [
       "<Figure size 640x480 with 1 Axes>"
      ]
     },
     "metadata": {},
     "output_type": "display_data"
    },
    {
     "data": {
      "image/png": "[encoded data removed]",
      "text/plain": [
       "<Figure size 640x480 with 1 Axes>"
      ]
     },
     "metadata": {},
     "output_type": "display_data"
    }
   ],
   "source": [
    "iris_x = np.array(iris_df[['petal_length', 'petal_width']])\n",
    "iris_y = np.array(pd.Categorical(pd.factorize(iris_df['target'])[0]))\n",
    "\n",
    "\n",
    "mesh_x, mesh_y = np.meshgrid(\n",
    "    np.linspace(iris_df['petal_length'].min() - 0.25, iris_df['petal_length'].max() + 0.25, 100),\n",
    "    np.linspace(iris_df['petal_width'].min() - 0.25, iris_df['petal_width'].max() + 0.25, 100)\n",
    ")\n",
    "\n",
    "#use np.unique with suitable options to map the class names to numbers\n",
    "target_names, iris_y_ids = np.unique(iris_y, return_inverse=True)\n",
    "\n",
    "mesh_data = np.hstack([mesh_x.reshape(-1, 1), mesh_y.reshape(-1, 1)])\n",
    "\n",
    "# for k in [1,3,5,7]:#, preds_k in preds.items():\n",
    "#     plt.figure()\n",
    "#     plt.title(f\"Decision boundary for k={k}\")\n",
    "#     plt.contourf(mesh_x, mesh_y, KNN_predict(iris_x, iris_y, mesh_data, k).reshape(100,100))\n",
    "#     target_col = 'target'\n",
    "#     plt.scatter(iris_x[:,0], iris_x[:,1], c=iris_y_ids, cmap='spring', linewidths=1, edgecolors='black')\n",
    "\n",
    "preds = KNN_predict(iris_x, iris_y, mesh_data, [1,3,5,7])\n",
    "for key, value in preds.items():\n",
    "    plt.figure()\n",
    "    plt.title(f\"Decision boundary for k={key}\")\n",
    "    plt.contourf(mesh_x, mesh_y, value.reshape(100,100))\n",
    "    target_col = 'target'\n",
    "    plt.scatter(iris_x[:,0], iris_x[:,1], c=iris_y_ids, cmap='spring', linewidths=1, edgecolors='black')\n"
   ]
  },
  {
   "cell_type": "markdown",
   "metadata": {
    "id": "1iZtHs5A33_z"
   },
   "source": [
    "### Estimate performance for various ks [1p]\n",
    "Consider the following experiment (bootsrap error estimation):\n",
    "1. We sample **with replacement** a dataset equal in size to the amount of data we have (i.e. for Iris, we pick 150 examples). This forms a trainign set. Since we have sampled with replacement, some samples were picked multiple times, and some were left out. Form a test set from the remaining ones.\n",
    "2. Based on the training set, we use the k-NN algorithm to predict the labels on the test set.\n",
    "3. We then check the number of errors and write it down.\n",
    "\n",
    "Do this 500 times for k ∈ {1, 3, 5, ..., 19}. Plot a function of the average number of errors as the function of k. It should be similar to one of the plots below."
   ]
  },
  {
   "cell_type": "code",
   "execution_count": 7,
   "metadata": {
    "id": "24FeneG8A4Hi"
   },
   "outputs": [],
   "source": [
    "#TODO: write a function to compute error rates\n",
    "def err_rate(predictions, test_Y):\n",
    "    return {k: np.sum(preds != test_Y)/test_Y.shape[0] for k, preds in predictions.items()}\n"
   ]
  },
  {
   "cell_type": "code",
   "execution_count": 8,
   "metadata": {
    "colab": {
     "base_uri": "https://localhost:8080/",
     "height": 591,
     "referenced_widgets": [
      "f8e7ad3e7f5a4e959001da1beba14eaa",
      "46ef24542d6c4b6f8f4d7816d5b15315",
      "696613a8a9854374b1a46db0fc1b992d",
      "3f8968c235fa46de9fbd64082b8b1e6b",
      "6fce9a1e14b6422198589763df9e69fd",
      "47c95c7ae55a43ffa11d832e108db3b9",
      "eea3f60376a243c59e79638511871b89",
      "3cb19b72401540e198e62582fe924e78",
      "fddfc5c9a0f04beebd58c1089416606f",
      "6a91e3f6fe524341a07073eba3352bc5",
      "327c92eb561b49068f68968714434042"
     ]
    },
    "executionInfo": {
     "elapsed": 50240,
     "status": "ok",
     "timestamp": 1666789049545,
     "user": {
      "displayName": "Małgorzata Biernacka",
      "userId": "15355294250475535980"
     },
     "user_tz": -120
    },
    "id": "7U4ejQYy1BRT",
    "outputId": "2d1ceedd-bc11-4226-9089-cf0a3b1273c1"
   },
   "outputs": [
    {
     "data": {
      "application/vnd.jupyter.widget-view+json": {
       "model_id": "cf2c0dacbaf64b6fabc631f16d25f6d9",
       "version_major": 2,
       "version_minor": 0
      },
      "text/plain": [
       "  0%|          | 0/1000 [00:00<?, ?it/s]"
      ]
     },
     "metadata": {},
     "output_type": "display_data"
    },
    {
     "data": {
      "text/plain": [
       "<Axes: xlabel='K', ylabel='err_rate'>"
      ]
     },
     "execution_count": 8,
     "metadata": {},
     "output_type": "execute_result"
    },
    {
     "data": {
      "image/png": "[encoded data removed]",
      "text/plain": [
       "<Figure size 640x480 with 1 Axes>"
      ]
     },
     "metadata": {},
     "output_type": "display_data"
    }
   ],
   "source": [
    "iris_x = np.array(iris_df[['petal_length', 'petal_width']])\n",
    "iris_y = np.array(pd.Categorical(pd.factorize(iris_df['target'])[0]))\n",
    "\n",
    "\n",
    "ks = range(1, 30, 2)\n",
    "results = []\n",
    "\n",
    "for _rep in tqdm(range(1000)):\n",
    "    #TODO\n",
    "    # Use np.random.randint to get training indices\n",
    "    # The find all unselected indices to form a test set \n",
    "    train_idx = np.random.randint(iris_df.shape[0], size=iris_df.shape[0])\n",
    "    test_idx = np.setdiff1d(np.arange(150), train_idx)\n",
    "    \n",
    "    #TODO: apply your kNN classifier to data subset\n",
    "    preds = KNN_predict(iris_x[train_idx], iris_y[train_idx], iris_x[test_idx], ks)\n",
    "    errs = err_rate(preds, iris_y[test_idx])\n",
    "    \n",
    "    \n",
    "    for k, errs_k in errs.items():\n",
    "        results.append({'K':k, 'err_rate': errs_k})\n",
    "\n",
    "# results_df will be a data_frame in long format\n",
    "results_df = pd.DataFrame(results)\n",
    "\n",
    "\n",
    "plt.figure()\n",
    "sns.regplot(x=results_df.K, y=results_df.err_rate, data=results_df, x_estimator=np.mean, order=2)\n"
   ]
  },
  {
   "cell_type": "markdown",
   "metadata": {
    "id": "ozuWZxLXXxqa"
   },
   "source": [
    "## Problem 2 kNN leave-one-out [2p]"
   ]
  },
  {
   "cell_type": "markdown",
   "metadata": {
    "id": "f7C17WB7aEIo"
   },
   "source": [
    "Implement the k-NN algorithm with a leave-one-out error estimation \n",
    "\n",
    "**Hint**: except for couple of lines the code for the KNN_loo function is very much the same as in previous Problem\n",
    "\n",
    "Then perform two experiments:\n",
    "1. plot the leave-one-out error rate as a function of $K$\n",
    "2. choose K=15, plot the leave-one-out error rate as a function of training dataset size. For best results, repeat the experiment 100 times with different permutations of the dataset."
   ]
  },
  {
   "cell_type": "code",
   "execution_count": 9,
   "metadata": {
    "id": "uhx4UjY4X3Sz"
   },
   "outputs": [],
   "source": [
    "def KNN_loo(train_X, train_Y, ks, limit=None, verbose=False):\n",
    "\n",
    "    if verbose:\n",
    "        print(\"Setting parameters...\", end='')\n",
    "    \n",
    "    if not hasattr(ks, '__iter__'): ks = [ks]\n",
    "    if limit == None:\n",
    "        limit = train_X.shape[0] - 1\n",
    "        assert(train_X.shape[0] > 1)\n",
    "        # while train_X.shape[0] % limit != 0: limit = np.random.randint(1, int(rain_X.shape[0] ** (1/2)))\n",
    "        limit = np.random.randint(1, int(rain_X.shape[0] ** (1/2)))\n",
    "    # assert(train_X.shape[0] % limit == 0)\n",
    "\n",
    "    divisions = train_X.shape[0] // limit\n",
    "    error_est = {k: 0 for k in ks}\n",
    "    \n",
    "    for i in range(divisions):\n",
    "        test_inds = slice(i * limit, (i + 1) * limit)\n",
    "        temp_test_X = train_X[test_inds]\n",
    "        temo_test_Y = train_Y[test_inds]\n",
    "        temp_train_X = np.delete(train_X, test_inds, axis=0)\n",
    "        temp_train_Y = np.delete(train_Y, test_inds, axis=0)\n",
    "\n",
    "        if verbose:\n",
    "            print(\"Computing KNN and error rates...\", end='')\n",
    "        \n",
    "        temp_preds = KNN_predict(temp_train_X, temp_train_Y, temp_test_X, ks, verbose)\n",
    "        temp_errs = err_rate(temp_preds, temo_test_Y)\n",
    "        for k, errs_k in temp_errs.items():\n",
    "            error_est[k] += errs_k\n",
    "\n",
    "    if verbose:\n",
    "            print(\"Computing error rates...\", end='')\n",
    "        \n",
    "    for k, errs_k in temp_errs.items():\n",
    "        error_est[k] = error_est[k] / divisions\n",
    "    \n",
    "    if verbose:\n",
    "        print(\"Done\")\n",
    "    return error_est"
   ]
  },
  {
   "cell_type": "code",
   "execution_count": 10,
   "metadata": {
    "colab": {
     "base_uri": "https://localhost:8080/",
     "height": 583
    },
    "executionInfo": {
     "elapsed": 985,
     "status": "ok",
     "timestamp": 1666789050526,
     "user": {
      "displayName": "Małgorzata Biernacka",
      "userId": "15355294250475535980"
     },
     "user_tz": -120
    },
    "id": "uhRGLfUmX4Op",
    "outputId": "a85a4004-d33d-43a0-f9d5-13571cf7b1a7"
   },
   "outputs": [
    {
     "name": "stdout",
     "output_type": "stream",
     "text": [
      "     K  err_rate\n",
      "0    1  0.040000\n",
      "1    3  0.040000\n",
      "2    5  0.040000\n",
      "3    7  0.040000\n",
      "4    9  0.040000\n",
      "5   11  0.040000\n",
      "6   13  0.040000\n",
      "7   15  0.040000\n",
      "8   17  0.040000\n",
      "9   19  0.040000\n",
      "10  21  0.033333\n",
      "11  23  0.040000\n",
      "12  25  0.040000\n",
      "13  27  0.046667\n",
      "14  29  0.046667\n"
     ]
    },
    {
     "data": {
      "text/plain": [
       "<Axes: xlabel='K', ylabel='err_rate'>"
      ]
     },
     "execution_count": 10,
     "metadata": {},
     "output_type": "execute_result"
    },
    {
     "data": {
      "image/png": "[encoded data removed]",
      "text/plain": [
       "<Figure size 640x480 with 1 Axes>"
      ]
     },
     "metadata": {},
     "output_type": "display_data"
    }
   ],
   "source": [
    "iris_x = np.array(iris_df[['petal_length', 'petal_width']])\n",
    "iris_y = np.array(pd.Categorical(pd.factorize(iris_df['target'])[0]))\n",
    "\n",
    "ks = range(1, 30, 2)\n",
    "results = []\n",
    "\n",
    "errs = KNN_loo(iris_x, iris_y, ks, 3)\n",
    "\n",
    "for k, errs_k in errs.items():\n",
    "        results.append({'K':k, 'err_rate': errs_k})\n",
    "    \n",
    "results_df = pd.DataFrame(results)\n",
    "\n",
    "plt.figure()\n",
    "print(results_df)\n",
    "sns.regplot(x=results_df.K, y=results_df.err_rate, data=results_df, x_estimator=np.mean, order=2)\n"
   ]
  },
  {
   "cell_type": "code",
   "execution_count": 11,
   "metadata": {
    "colab": {
     "base_uri": "https://localhost:8080/",
     "height": 565,
     "referenced_widgets": [
      "c9696b967f364f4e85f191ac7d0e9e3a",
      "c642dcaa58a844acacef31f1f512bb8d",
      "186798986e7b46f9bca0e8b15ee60f07",
      "9fd5a9194dc041e7b790dbddaf0ed036",
      "77b8e103bf9c47f8aa80cfd20af073f4",
      "820ab0e5ebee46c78ab4bb99b218164f",
      "50f2e162a70a451f9fa6ebcd81db9192",
      "362a136d03e846e8b30f508ce45f6611",
      "7a4bab5ed84e426d85132b4cf9d7719e",
      "0dc1af2ea97f43e78f48880ddd053ec6",
      "667d99be9982440da50b7c8c222b097b"
     ]
    },
    "executionInfo": {
     "elapsed": 3208,
     "status": "ok",
     "timestamp": 1666789053725,
     "user": {
      "displayName": "Małgorzata Biernacka",
      "userId": "15355294250475535980"
     },
     "user_tz": -120
    },
    "id": "XYGjasc_Y4Ac",
    "outputId": "30e0aebb-99a2-4195-a87c-1a9369e9ebda"
   },
   "outputs": [
    {
     "data": {
      "application/vnd.jupyter.widget-view+json": {
       "model_id": "ee064cde2a0f4d38aad3611b189dabba",
       "version_major": 2,
       "version_minor": 0
      },
      "text/plain": [
       "  0%|          | 0/100 [00:00<?, ?it/s]"
      ]
     },
     "metadata": {},
     "output_type": "display_data"
    },
    {
     "name": "stdout",
     "output_type": "stream",
     "text": [
      "     trainset size  err_rate\n",
      "0                5  0.040000\n",
      "1               10  0.040000\n",
      "2               20  0.035714\n",
      "3               50  0.033333\n",
      "4               75  0.046667\n",
      "..             ...       ...\n",
      "695             20  0.035714\n",
      "696             50  0.040000\n",
      "697             75  0.040000\n",
      "698            100  0.050000\n",
      "699            150  1.000000\n",
      "\n",
      "[700 rows x 2 columns]\n"
     ]
    },
    {
     "data": {
      "text/plain": [
       "<Axes: xlabel='trainset size', ylabel='err_rate'>"
      ]
     },
     "execution_count": 11,
     "metadata": {},
     "output_type": "execute_result"
    },
    {
     "data": {
      "image/png": "[encoded data removed]",
      "text/plain": [
       "<Figure size 640x480 with 1 Axes>"
      ]
     },
     "metadata": {},
     "output_type": "display_data"
    }
   ],
   "source": [
    "# zleeeeeeeeeeeeeeeeeeeeeeeeeeeeeee\n",
    "\n",
    "iris_x = np.array(iris_df[['petal_length', 'petal_width']])\n",
    "iris_y = np.array(pd.Categorical(pd.factorize(iris_df['target'])[0]))\n",
    "\n",
    "k = 15\n",
    "results = []\n",
    "\n",
    "for _rep in tqdm(range(100)):\n",
    "    permutation_indices = np.random.permutation(iris_x.shape[0])\n",
    "    permuted_iris_x = iris_x[permutation_indices]\n",
    "    permuted_iris_y = iris_y[permutation_indices]\n",
    "        \n",
    "    for limit in [5 ,10, 20, 50, 75, 100, 150]:\n",
    "        errs = KNN_loo(permuted_iris_x, permuted_iris_y, k, limit)\n",
    "        results.append({'trainset size':limit, 'err_rate': errs[k]})\n",
    "\n",
    "results_df = pd.DataFrame(results)\n",
    "\n",
    "plt.figure()\n",
    "print(results_df)\n",
    "plt.xscale('log')\n",
    "sns.scatterplot(x=results_df['trainset size'], y=results_df.err_rate, data=results_df)\n"
   ]
  },
  {
   "cell_type": "markdown",
   "metadata": {
    "id": "A86GnZpa33_0"
   },
   "source": [
    "## Problem 3 kNN MNIST [2p] \n",
    "\n",
    "Apply the K-Nearest Neighbors (K-NN) algorithm to the MNIST dataset. \n",
    "\n",
    "The MNIST (http://yann.lecun.com/exdb/mnist/) dataset consists of normalized (centered and stretched) scans of hand-written digits. Specifically, each element of the dataset is a 28 × 28 grayscale image, thus having 764 8-bit pixels. \n",
    "\n",
    "1. Display a few objects from each of the classes, paying attention to aesthetics and clarity of your presentation. **Note:** You already downloaded the dataset in \"Setup\" section. Please use the code below to get started.\n",
    "\n",
    "2. **[2p]** Apply a k-NN classifier to the MNIST dataset. First, divide the training set into two parts, which we will call training and validation. On MNIST use the first 50000 samples for training and the last 10000 for validation. Then find the optimal number of neighbors by assessing the accuracy on the validation set. You do not need to repeat this experiment multiple times. Finally, compute the accuracy on the test set obtained with the best previously chosen number of neighbors. On MNIST you should get about 3% errors. Pick a few mislabeled samples from the test dataset and plot them along with the correct ones. **Note:**\n",
    "  * MNIST is much larger than the Iris dataset. A good implementation may need a few minutes depending on your runtime type. Please optimize your algorithm:\n",
    "  * Compute the distances only once, then test for different values of k.\n",
    "  * Use vectorized expressions to compute the distance. It is possible to compute all distances between the training and testing points in one expression. Hint: think about the vectorized expression \\begin{equation}(X - Y)^T (X - Y)\\end{equation}\n",
    "  * You can use single precision numbers in computation.\n",
    "  * If your code is taking a long time to execute, please save its results before the lab session.\n",
    "\n",
    "**Note:** in NumPy, matrices have its own data type (dtype), which is retained during\n",
    "calculations. Please pay attention to it. I particular, do not subtract values of data types not\n",
    "having the sign bit, do not divide integers, etc. Results of such operations will not be\n",
    "automatically casted to types having the required precision."
   ]
  },
  {
   "cell_type": "code",
   "execution_count": 12,
   "metadata": {
    "colab": {
     "base_uri": "https://localhost:8080/"
    },
    "executionInfo": {
     "elapsed": 6081,
     "status": "ok",
     "timestamp": 1666789059801,
     "user": {
      "displayName": "Małgorzata Biernacka",
      "userId": "15355294250475535980"
     },
     "user_tz": -120
    },
    "id": "ipuqv4vwISwI",
    "outputId": "3bd6c3ec-20f6-4746-e728-2dcac8b0c74f"
   },
   "outputs": [],
   "source": [
    "# Please note that this code needs only to be run in a fresh runtime.\n",
    "# However, it can be rerun afterwards too.\n",
    "!pip install -q gdown httpimport\n",
    "![ -e mnist.npz ] || gdown 'https://drive.google.com/uc?id=1QPaC3IKB_5tX6yIZgRgkpcqFrfVqPTXU' -O mnist.npz"
   ]
  },
  {
   "cell_type": "code",
   "execution_count": 13,
   "metadata": {
    "id": "3AvAeiDN33_1"
   },
   "outputs": [],
   "source": [
    "with np.load('mnist.npz') as data:\n",
    "    mnist_full_train_data_uint8 = data['train_data']\n",
    "    mnist_full_train_labels_int64 = data['train_labels']\n",
    "    mnist_test_data_uint8 = data['test_data']\n",
    "    mnist_test_labels_int64 = data['test_labels']\n",
    "        \n",
    "# Split train data into train and validation sets\n",
    "mnist_train_data_uint8 = mnist_full_train_data_uint8[:50000]\n",
    "mnist_train_labels_int64 = mnist_full_train_labels_int64[:50000]\n",
    "mnist_valid_data_uint8 = mnist_full_train_data_uint8[50000:]\n",
    "mnist_valid_labels_int64 = mnist_full_train_labels_int64[50000:]"
   ]
  },
  {
   "cell_type": "code",
   "execution_count": 14,
   "metadata": {
    "colab": {
     "base_uri": "https://localhost:8080/",
     "height": 248
    },
    "executionInfo": {
     "elapsed": 16,
     "status": "ok",
     "timestamp": 1666789059802,
     "user": {
      "displayName": "Małgorzata Biernacka",
      "userId": "15355294250475535980"
     },
     "user_tz": -120
    },
    "id": "aenFc3L633_4",
    "outputId": "51c333f1-e8ed-46a0-ac5a-3f31f744fc56"
   },
   "outputs": [
    {
     "data": {
      "image/png": "[encoded data removed]",
      "text/plain": [
       "<Figure size 640x480 with 1 Axes>"
      ]
     },
     "metadata": {},
     "output_type": "display_data"
    }
   ],
   "source": [
    "plot_mat(mnist_train_data_uint8[:20, None], cmap='gray')"
   ]
  },
  {
   "cell_type": "code",
   "execution_count": 15,
   "metadata": {
    "id": "ZK46uiW4-Yox"
   },
   "outputs": [],
   "source": [
    "# MNIST is large.\n",
    "# Implement a batched KNN classifier, which processes the test data in small batches\n",
    "# and returns the error rates\n",
    "\n",
    "# The code should not run for more than a couple of minutes on the Colab runtime, \n",
    "# If it is slower, optimize the distance computation in KNN\n",
    "\n",
    "# zmiana k na ks\n",
    "def batched_KNN(train_X, train_Y, test_X, ks, verbose=False, batch_size=200):\n",
    "    all_preds = {k: [] for k in ks}\n",
    "    for i in tqdm(range(0, test_X.shape[0], batch_size)):\n",
    "        batch_X = test_X[i:i + batch_size]\n",
    "        # TODO: run KNN on the batch and save the predictions\n",
    "        for k, preds_k in KNN_predict(train_X, train_Y, batch_X, ks).items():\n",
    "            all_preds[k] = np.append(all_preds[k], preds_k)\n",
    "    return all_preds"
   ]
  },
  {
   "cell_type": "code",
   "execution_count": 16,
   "metadata": {
    "colab": {
     "base_uri": "https://localhost:8080/",
     "height": 315,
     "referenced_widgets": [
      "84af6a13b17547ffa19e60ed28d42030",
      "0adb26c0853848958d7f72db4d79e394",
      "881aaa4fc3684fbc94e3cdda1475d956",
      "da90ea482338418bbf451c8599328bd8",
      "4b02f66dee9643c6af1ae5f7d25c489d",
      "25e4b3d3aca14963ab75dffd5c5a1aaf",
      "e0dcd630d9014fb396aee8d5fce9926e",
      "0138948d697e422e940e26bbad1558a7",
      "4d2e4ae6d29147aca8ee80b30f13efb9",
      "75cd8bfaed164c4284406a9fbe5c06b1",
      "1cbca849a618457ebb08dd9d48761712"
     ]
    },
    "executionInfo": {
     "elapsed": 91690,
     "status": "ok",
     "timestamp": 1666789151478,
     "user": {
      "displayName": "Małgorzata Biernacka",
      "userId": "15355294250475535980"
     },
     "user_tz": -120
    },
    "id": "OZB49qMMCP9i",
    "outputId": "31905365-ccf6-4d26-8ce8-1f3f39a3de53"
   },
   "outputs": [
    {
     "data": {
      "application/vnd.jupyter.widget-view+json": {
       "model_id": "1e9b39525ffc4c599a490c333f5d867b",
       "version_major": 2,
       "version_minor": 0
      },
      "text/plain": [
       "  0%|          | 0/50 [00:00<?, ?it/s]"
      ]
     },
     "metadata": {},
     "output_type": "display_data"
    },
    {
     "data": {
      "text/plain": [
       "[<matplotlib.lines.Line2D at 0x7fc49f4081f0>]"
      ]
     },
     "execution_count": 16,
     "metadata": {},
     "output_type": "execute_result"
    },
    {
     "data": {
      "image/png": "[encoded data removed]",
      "text/plain": [
       "<Figure size 640x480 with 1 Axes>"
      ]
     },
     "metadata": {},
     "output_type": "display_data"
    }
   ],
   "source": [
    "# Now find the best k on the validation set\n",
    "ks = [1, 3, 5, 7, 9]\n",
    "errs = dict()\n",
    "mnist_validation_preds = batched_KNN(\n",
    "    mnist_train_data_uint8.astype('float32').reshape(-1, 28*28), mnist_train_labels_int64,\n",
    "    mnist_valid_data_uint8.astype('float32').reshape(-1, 28*28),\n",
    "    ks)\n",
    "\n",
    "errs = err_rate(mnist_validation_preds, mnist_valid_labels_int64)\n",
    "\n",
    "plt.plot(ks, [errs[k] for k in ks])"
   ]
  },
  {
   "cell_type": "code",
   "execution_count": 17,
   "metadata": {
    "colab": {
     "base_uri": "https://localhost:8080/",
     "height": 103,
     "referenced_widgets": [
      "26dbfc078b724d7ea188f9d2269f28f6",
      "b9311ebb44f34124ba788d5e75a71056",
      "29aa8c82c9bf4750b8a475dc120fa3a1",
      "d135d3917ca0446f80da0b6f575c5563",
      "3a4a39b6ccec4e5cbe95e94cfe7bc8e3",
      "3ba85fb2dbea4aadbd4e27f793804b1f",
      "dc17d7cc29b04263ad08a6558a786d25",
      "ab3b17a798f44df49cf4440f1ff402e7",
      "c3015c68746d4982bdd895cd63b96019",
      "891739cdbccf4626bede4caaf282b364",
      "1345a019f1b045318969e76ecaedab51"
     ]
    },
    "executionInfo": {
     "elapsed": 108324,
     "status": "ok",
     "timestamp": 1666789259780,
     "user": {
      "displayName": "Małgorzata Biernacka",
      "userId": "15355294250475535980"
     },
     "user_tz": -120
    },
    "id": "l5j4eGVN34AR",
    "outputId": "4f192811-1437-4212-d69a-2edce00468f1"
   },
   "outputs": [
    {
     "data": {
      "application/vnd.jupyter.widget-view+json": {
       "model_id": "427edb55b04d42409a0952cfae9c0f4a",
       "version_major": 2,
       "version_minor": 0
      },
      "text/plain": [
       "  0%|          | 0/50 [00:00<?, ?it/s]"
      ]
     },
     "metadata": {},
     "output_type": "display_data"
    },
    {
     "name": "stdout",
     "output_type": "stream",
     "text": [
      "\n",
      "\n",
      "When k=3 the test error rate is 2.9%%\n"
     ]
    }
   ],
   "source": [
    "# Now use the best k to compute the test error\n",
    "\n",
    "best_K = 3\n",
    "\n",
    "mnist_test_preds = batched_KNN(\n",
    "    mnist_full_train_data_uint8.astype('float32').reshape(-1, 28*28), \n",
    "    mnist_full_train_labels_int64,\n",
    "    mnist_test_data_uint8.astype('float32').reshape(-1, 28*28), \n",
    "    [best_K])\n",
    "\n",
    "mnist_test_err = err_rate(mnist_test_preds, mnist_test_labels_int64)[best_K]\n",
    "print(f\"\\n\\nWhen k={best_K} the test error rate is {mnist_test_err * 100.0:.1f}%%\")"
   ]
  },
  {
   "cell_type": "code",
   "execution_count": null,
   "metadata": {},
   "outputs": [],
   "source": []
  }
 ],
 "metadata": {
  "colab": {
   "collapsed_sections": [],
   "provenance": [
    {
     "file_id": "1KuNvda8_6p7CHd2NS0TNd1kCSMv5yFFM",
     "timestamp": 1569448911047
    },
    {
     "file_id": "1Mot8l0e_08Gktcxx2VSxRPreYqDpiBj7",
     "timestamp": 1539337272256
    },
    {
     "file_id": "https://github.com/janchorowski/nn_assignments/blob/nn18/assignment1/Assignment1.ipynb",
     "timestamp": 1538217951160
    }
   ]
  },
  "kernelspec": {
   "display_name": "Python 3 (ipykernel)",
   "language": "python",
   "name": "python3"
  },
  "language_info": {
   "codemirror_mode": {
    "name": "ipython",
    "version": 3
   },
   "file_extension": ".py",
   "mimetype": "text/x-python",
   "name": "python",
   "nbconvert_exporter": "python",
   "pygments_lexer": "ipython3",
   "version": "3.10.12"
  },
  "widgets": {
   "application/vnd.jupyter.widget-state+json": {
    "0138948d697e422e940e26bbad1558a7": {
     "model_module": "@jupyter-widgets/base",
     "model_module_version": "1.2.0",
     "model_name": "LayoutModel",
     "state": {
      "_model_module": "@jupyter-widgets/base",
      "_model_module_version": "1.2.0",
      "_model_name": "LayoutModel",
      "_view_count": null,
      "_view_module": "@jupyter-widgets/base",
      "_view_module_version": "1.2.0",
      "_view_name": "LayoutView",
      "align_content": null,
      "align_items": null,
      "align_self": null,
      "border": null,
      "bottom": null,
      "display": null,
      "flex": null,
      "flex_flow": null,
      "grid_area": null,
      "grid_auto_columns": null,
      "grid_auto_flow": null,
      "grid_auto_rows": null,
      "grid_column": null,
      "grid_gap": null,
      "grid_row": null,
      "grid_template_areas": null,
      "grid_template_columns": null,
      "grid_template_rows": null,
      "height": null,
      "justify_content": null,
      "justify_items": null,
      "left": null,
      "margin": null,
      "max_height": null,
      "max_width": null,
      "min_height": null,
      "min_width": null,
      "object_fit": null,
      "object_position": null,
      "order": null,
      "overflow": null,
      "overflow_x": null,
      "overflow_y": null,
      "padding": null,
      "right": null,
      "top": null,
      "visibility": null,
      "width": null
     }
    },
    "0adb26c0853848958d7f72db4d79e394": {
     "model_module": "@jupyter-widgets/controls",
     "model_module_version": "1.5.0",
     "model_name": "HTMLModel",
     "state": {
      "_dom_classes": [],
      "_model_module": "@jupyter-widgets/controls",
      "_model_module_version": "1.5.0",
      "_model_name": "HTMLModel",
      "_view_count": null,
      "_view_module": "@jupyter-widgets/controls",
      "_view_module_version": "1.5.0",
      "_view_name": "HTMLView",
      "description": "",
      "description_tooltip": null,
      "layout": "IPY_MODEL_25e4b3d3aca14963ab75dffd5c5a1aaf",
      "placeholder": "​",
      "style": "IPY_MODEL_e0dcd630d9014fb396aee8d5fce9926e",
      "value": "100%"
     }
    },
    "0dc1af2ea97f43e78f48880ddd053ec6": {
     "model_module": "@jupyter-widgets/base",
     "model_module_version": "1.2.0",
     "model_name": "LayoutModel",
     "state": {
      "_model_module": "@jupyter-widgets/base",
      "_model_module_version": "1.2.0",
      "_model_name": "LayoutModel",
      "_view_count": null,
      "_view_module": "@jupyter-widgets/base",
      "_view_module_version": "1.2.0",
      "_view_name": "LayoutView",
      "align_content": null,
      "align_items": null,
      "align_self": null,
      "border": null,
      "bottom": null,
      "display": null,
      "flex": null,
      "flex_flow": null,
      "grid_area": null,
      "grid_auto_columns": null,
      "grid_auto_flow": null,
      "grid_auto_rows": null,
      "grid_column": null,
      "grid_gap": null,
      "grid_row": null,
      "grid_template_areas": null,
      "grid_template_columns": null,
      "grid_template_rows": null,
      "height": null,
      "justify_content": null,
      "justify_items": null,
      "left": null,
      "margin": null,
      "max_height": null,
      "max_width": null,
      "min_height": null,
      "min_width": null,
      "object_fit": null,
      "object_position": null,
      "order": null,
      "overflow": null,
      "overflow_x": null,
      "overflow_y": null,
      "padding": null,
      "right": null,
      "top": null,
      "visibility": null,
      "width": null
     }
    },
    "1345a019f1b045318969e76ecaedab51": {
     "model_module": "@jupyter-widgets/controls",
     "model_module_version": "1.5.0",
     "model_name": "DescriptionStyleModel",
     "state": {
      "_model_module": "@jupyter-widgets/controls",
      "_model_module_version": "1.5.0",
      "_model_name": "DescriptionStyleModel",
      "_view_count": null,
      "_view_module": "@jupyter-widgets/base",
      "_view_module_version": "1.2.0",
      "_view_name": "StyleView",
      "description_width": ""
     }
    },
    "186798986e7b46f9bca0e8b15ee60f07": {
     "model_module": "@jupyter-widgets/controls",
     "model_module_version": "1.5.0",
     "model_name": "FloatProgressModel",
     "state": {
      "_dom_classes": [],
      "_model_module": "@jupyter-widgets/controls",
      "_model_module_version": "1.5.0",
      "_model_name": "FloatProgressModel",
      "_view_count": null,
      "_view_module": "@jupyter-widgets/controls",
      "_view_module_version": "1.5.0",
      "_view_name": "ProgressView",
      "bar_style": "success",
      "description": "",
      "description_tooltip": null,
      "layout": "IPY_MODEL_362a136d03e846e8b30f508ce45f6611",
      "max": 100,
      "min": 0,
      "orientation": "horizontal",
      "style": "IPY_MODEL_7a4bab5ed84e426d85132b4cf9d7719e",
      "value": 100
     }
    },
    "1cbca849a618457ebb08dd9d48761712": {
     "model_module": "@jupyter-widgets/controls",
     "model_module_version": "1.5.0",
     "model_name": "DescriptionStyleModel",
     "state": {
      "_model_module": "@jupyter-widgets/controls",
      "_model_module_version": "1.5.0",
      "_model_name": "DescriptionStyleModel",
      "_view_count": null,
      "_view_module": "@jupyter-widgets/base",
      "_view_module_version": "1.2.0",
      "_view_name": "StyleView",
      "description_width": ""
     }
    },
    "25e4b3d3aca14963ab75dffd5c5a1aaf": {
     "model_module": "@jupyter-widgets/base",
     "model_module_version": "1.2.0",
     "model_name": "LayoutModel",
     "state": {
      "_model_module": "@jupyter-widgets/base",
      "_model_module_version": "1.2.0",
      "_model_name": "LayoutModel",
      "_view_count": null,
      "_view_module": "@jupyter-widgets/base",
      "_view_module_version": "1.2.0",
      "_view_name": "LayoutView",
      "align_content": null,
      "align_items": null,
      "align_self": null,
      "border": null,
      "bottom": null,
      "display": null,
      "flex": null,
      "flex_flow": null,
      "grid_area": null,
      "grid_auto_columns": null,
      "grid_auto_flow": null,
      "grid_auto_rows": null,
      "grid_column": null,
      "grid_gap": null,
      "grid_row": null,
      "grid_template_areas": null,
      "grid_template_columns": null,
      "grid_template_rows": null,
      "height": null,
      "justify_content": null,
      "justify_items": null,
      "left": null,
      "margin": null,
      "max_height": null,
      "max_width": null,
      "min_height": null,
      "min_width": null,
      "object_fit": null,
      "object_position": null,
      "order": null,
      "overflow": null,
      "overflow_x": null,
      "overflow_y": null,
      "padding": null,
      "right": null,
      "top": null,
      "visibility": null,
      "width": null
     }
    },
    "26dbfc078b724d7ea188f9d2269f28f6": {
     "model_module": "@jupyter-widgets/controls",
     "model_module_version": "1.5.0",
     "model_name": "HBoxModel",
     "state": {
      "_dom_classes": [],
      "_model_module": "@jupyter-widgets/controls",
      "_model_module_version": "1.5.0",
      "_model_name": "HBoxModel",
      "_view_count": null,
      "_view_module": "@jupyter-widgets/controls",
      "_view_module_version": "1.5.0",
      "_view_name": "HBoxView",
      "box_style": "",
      "children": [
       "IPY_MODEL_b9311ebb44f34124ba788d5e75a71056",
       "IPY_MODEL_29aa8c82c9bf4750b8a475dc120fa3a1",
       "IPY_MODEL_d135d3917ca0446f80da0b6f575c5563"
      ],
      "layout": "IPY_MODEL_3a4a39b6ccec4e5cbe95e94cfe7bc8e3"
     }
    },
    "29aa8c82c9bf4750b8a475dc120fa3a1": {
     "model_module": "@jupyter-widgets/controls",
     "model_module_version": "1.5.0",
     "model_name": "FloatProgressModel",
     "state": {
      "_dom_classes": [],
      "_model_module": "@jupyter-widgets/controls",
      "_model_module_version": "1.5.0",
      "_model_name": "FloatProgressModel",
      "_view_count": null,
      "_view_module": "@jupyter-widgets/controls",
      "_view_module_version": "1.5.0",
      "_view_name": "ProgressView",
      "bar_style": "success",
      "description": "",
      "description_tooltip": null,
      "layout": "IPY_MODEL_ab3b17a798f44df49cf4440f1ff402e7",
      "max": 50,
      "min": 0,
      "orientation": "horizontal",
      "style": "IPY_MODEL_c3015c68746d4982bdd895cd63b96019",
      "value": 50
     }
    },
    "327c92eb561b49068f68968714434042": {
     "model_module": "@jupyter-widgets/controls",
     "model_module_version": "1.5.0",
     "model_name": "DescriptionStyleModel",
     "state": {
      "_model_module": "@jupyter-widgets/controls",
      "_model_module_version": "1.5.0",
      "_model_name": "DescriptionStyleModel",
      "_view_count": null,
      "_view_module": "@jupyter-widgets/base",
      "_view_module_version": "1.2.0",
      "_view_name": "StyleView",
      "description_width": ""
     }
    },
    "362a136d03e846e8b30f508ce45f6611": {
     "model_module": "@jupyter-widgets/base",
     "model_module_version": "1.2.0",
     "model_name": "LayoutModel",
     "state": {
      "_model_module": "@jupyter-widgets/base",
      "_model_module_version": "1.2.0",
      "_model_name": "LayoutModel",
      "_view_count": null,
      "_view_module": "@jupyter-widgets/base",
      "_view_module_version": "1.2.0",
      "_view_name": "LayoutView",
      "align_content": null,
      "align_items": null,
      "align_self": null,
      "border": null,
      "bottom": null,
      "display": null,
      "flex": null,
      "flex_flow": null,
      "grid_area": null,
      "grid_auto_columns": null,
      "grid_auto_flow": null,
      "grid_auto_rows": null,
      "grid_column": null,
      "grid_gap": null,
      "grid_row": null,
      "grid_template_areas": null,
      "grid_template_columns": null,
      "grid_template_rows": null,
      "height": null,
      "justify_content": null,
      "justify_items": null,
      "left": null,
      "margin": null,
      "max_height": null,
      "max_width": null,
      "min_height": null,
      "min_width": null,
      "object_fit": null,
      "object_position": null,
      "order": null,
      "overflow": null,
      "overflow_x": null,
      "overflow_y": null,
      "padding": null,
      "right": null,
      "top": null,
      "visibility": null,
      "width": null
     }
    },
    "3a4a39b6ccec4e5cbe95e94cfe7bc8e3": {
     "model_module": "@jupyter-widgets/base",
     "model_module_version": "1.2.0",
     "model_name": "LayoutModel",
     "state": {
      "_model_module": "@jupyter-widgets/base",
      "_model_module_version": "1.2.0",
      "_model_name": "LayoutModel",
      "_view_count": null,
      "_view_module": "@jupyter-widgets/base",
      "_view_module_version": "1.2.0",
      "_view_name": "LayoutView",
      "align_content": null,
      "align_items": null,
      "align_self": null,
      "border": null,
      "bottom": null,
      "display": null,
      "flex": null,
      "flex_flow": null,
      "grid_area": null,
      "grid_auto_columns": null,
      "grid_auto_flow": null,
      "grid_auto_rows": null,
      "grid_column": null,
      "grid_gap": null,
      "grid_row": null,
      "grid_template_areas": null,
      "grid_template_columns": null,
      "grid_template_rows": null,
      "height": null,
      "justify_content": null,
      "justify_items": null,
      "left": null,
      "margin": null,
      "max_height": null,
      "max_width": null,
      "min_height": null,
      "min_width": null,
      "object_fit": null,
      "object_position": null,
      "order": null,
      "overflow": null,
      "overflow_x": null,
      "overflow_y": null,
      "padding": null,
      "right": null,
      "top": null,
      "visibility": null,
      "width": null
     }
    },
    "3ba85fb2dbea4aadbd4e27f793804b1f": {
     "model_module": "@jupyter-widgets/base",
     "model_module_version": "1.2.0",
     "model_name": "LayoutModel",
     "state": {
      "_model_module": "@jupyter-widgets/base",
      "_model_module_version": "1.2.0",
      "_model_name": "LayoutModel",
      "_view_count": null,
      "_view_module": "@jupyter-widgets/base",
      "_view_module_version": "1.2.0",
      "_view_name": "LayoutView",
      "align_content": null,
      "align_items": null,
      "align_self": null,
      "border": null,
      "bottom": null,
      "display": null,
      "flex": null,
      "flex_flow": null,
      "grid_area": null,
      "grid_auto_columns": null,
      "grid_auto_flow": null,
      "grid_auto_rows": null,
      "grid_column": null,
      "grid_gap": null,
      "grid_row": null,
      "grid_template_areas": null,
      "grid_template_columns": null,
      "grid_template_rows": null,
      "height": null,
      "justify_content": null,
      "justify_items": null,
      "left": null,
      "margin": null,
      "max_height": null,
      "max_width": null,
      "min_height": null,
      "min_width": null,
      "object_fit": null,
      "object_position": null,
      "order": null,
      "overflow": null,
      "overflow_x": null,
      "overflow_y": null,
      "padding": null,
      "right": null,
      "top": null,
      "visibility": null,
      "width": null
     }
    },
    "3cb19b72401540e198e62582fe924e78": {
     "model_module": "@jupyter-widgets/base",
     "model_module_version": "1.2.0",
     "model_name": "LayoutModel",
     "state": {
      "_model_module": "@jupyter-widgets/base",
      "_model_module_version": "1.2.0",
      "_model_name": "LayoutModel",
      "_view_count": null,
      "_view_module": "@jupyter-widgets/base",
      "_view_module_version": "1.2.0",
      "_view_name": "LayoutView",
      "align_content": null,
      "align_items": null,
      "align_self": null,
      "border": null,
      "bottom": null,
      "display": null,
      "flex": null,
      "flex_flow": null,
      "grid_area": null,
      "grid_auto_columns": null,
      "grid_auto_flow": null,
      "grid_auto_rows": null,
      "grid_column": null,
      "grid_gap": null,
      "grid_row": null,
      "grid_template_areas": null,
      "grid_template_columns": null,
      "grid_template_rows": null,
      "height": null,
      "justify_content": null,
      "justify_items": null,
      "left": null,
      "margin": null,
      "max_height": null,
      "max_width": null,
      "min_height": null,
      "min_width": null,
      "object_fit": null,
      "object_position": null,
      "order": null,
      "overflow": null,
      "overflow_x": null,
      "overflow_y": null,
      "padding": null,
      "right": null,
      "top": null,
      "visibility": null,
      "width": null
     }
    },
    "3f8968c235fa46de9fbd64082b8b1e6b": {
     "model_module": "@jupyter-widgets/controls",
     "model_module_version": "1.5.0",
     "model_name": "HTMLModel",
     "state": {
      "_dom_classes": [],
      "_model_module": "@jupyter-widgets/controls",
      "_model_module_version": "1.5.0",
      "_model_name": "HTMLModel",
      "_view_count": null,
      "_view_module": "@jupyter-widgets/controls",
      "_view_module_version": "1.5.0",
      "_view_name": "HTMLView",
      "description": "",
      "description_tooltip": null,
      "layout": "IPY_MODEL_6a91e3f6fe524341a07073eba3352bc5",
      "placeholder": "​",
      "style": "IPY_MODEL_327c92eb561b49068f68968714434042",
      "value": " 1000/1000 [00:46&lt;00:00, 31.05it/s]"
     }
    },
    "46ef24542d6c4b6f8f4d7816d5b15315": {
     "model_module": "@jupyter-widgets/controls",
     "model_module_version": "1.5.0",
     "model_name": "HTMLModel",
     "state": {
      "_dom_classes": [],
      "_model_module": "@jupyter-widgets/controls",
      "_model_module_version": "1.5.0",
      "_model_name": "HTMLModel",
      "_view_count": null,
      "_view_module": "@jupyter-widgets/controls",
      "_view_module_version": "1.5.0",
      "_view_name": "HTMLView",
      "description": "",
      "description_tooltip": null,
      "layout": "IPY_MODEL_47c95c7ae55a43ffa11d832e108db3b9",
      "placeholder": "​",
      "style": "IPY_MODEL_eea3f60376a243c59e79638511871b89",
      "value": "100%"
     }
    },
    "47c95c7ae55a43ffa11d832e108db3b9": {
     "model_module": "@jupyter-widgets/base",
     "model_module_version": "1.2.0",
     "model_name": "LayoutModel",
     "state": {
      "_model_module": "@jupyter-widgets/base",
      "_model_module_version": "1.2.0",
      "_model_name": "LayoutModel",
      "_view_count": null,
      "_view_module": "@jupyter-widgets/base",
      "_view_module_version": "1.2.0",
      "_view_name": "LayoutView",
      "align_content": null,
      "align_items": null,
      "align_self": null,
      "border": null,
      "bottom": null,
      "display": null,
      "flex": null,
      "flex_flow": null,
      "grid_area": null,
      "grid_auto_columns": null,
      "grid_auto_flow": null,
      "grid_auto_rows": null,
      "grid_column": null,
      "grid_gap": null,
      "grid_row": null,
      "grid_template_areas": null,
      "grid_template_columns": null,
      "grid_template_rows": null,
      "height": null,
      "justify_content": null,
      "justify_items": null,
      "left": null,
      "margin": null,
      "max_height": null,
      "max_width": null,
      "min_height": null,
      "min_width": null,
      "object_fit": null,
      "object_position": null,
      "order": null,
      "overflow": null,
      "overflow_x": null,
      "overflow_y": null,
      "padding": null,
      "right": null,
      "top": null,
      "visibility": null,
      "width": null
     }
    },
    "4b02f66dee9643c6af1ae5f7d25c489d": {
     "model_module": "@jupyter-widgets/base",
     "model_module_version": "1.2.0",
     "model_name": "LayoutModel",
     "state": {
      "_model_module": "@jupyter-widgets/base",
      "_model_module_version": "1.2.0",
      "_model_name": "LayoutModel",
      "_view_count": null,
      "_view_module": "@jupyter-widgets/base",
      "_view_module_version": "1.2.0",
      "_view_name": "LayoutView",
      "align_content": null,
      "align_items": null,
      "align_self": null,
      "border": null,
      "bottom": null,
      "display": null,
      "flex": null,
      "flex_flow": null,
      "grid_area": null,
      "grid_auto_columns": null,
      "grid_auto_flow": null,
      "grid_auto_rows": null,
      "grid_column": null,
      "grid_gap": null,
      "grid_row": null,
      "grid_template_areas": null,
      "grid_template_columns": null,
      "grid_template_rows": null,
      "height": null,
      "justify_content": null,
      "justify_items": null,
      "left": null,
      "margin": null,
      "max_height": null,
      "max_width": null,
      "min_height": null,
      "min_width": null,
      "object_fit": null,
      "object_position": null,
      "order": null,
      "overflow": null,
      "overflow_x": null,
      "overflow_y": null,
      "padding": null,
      "right": null,
      "top": null,
      "visibility": null,
      "width": null
     }
    },
    "4d2e4ae6d29147aca8ee80b30f13efb9": {
     "model_module": "@jupyter-widgets/controls",
     "model_module_version": "1.5.0",
     "model_name": "ProgressStyleModel",
     "state": {
      "_model_module": "@jupyter-widgets/controls",
      "_model_module_version": "1.5.0",
      "_model_name": "ProgressStyleModel",
      "_view_count": null,
      "_view_module": "@jupyter-widgets/base",
      "_view_module_version": "1.2.0",
      "_view_name": "StyleView",
      "bar_color": null,
      "description_width": ""
     }
    },
    "50f2e162a70a451f9fa6ebcd81db9192": {
     "model_module": "@jupyter-widgets/controls",
     "model_module_version": "1.5.0",
     "model_name": "DescriptionStyleModel",
     "state": {
      "_model_module": "@jupyter-widgets/controls",
      "_model_module_version": "1.5.0",
      "_model_name": "DescriptionStyleModel",
      "_view_count": null,
      "_view_module": "@jupyter-widgets/base",
      "_view_module_version": "1.2.0",
      "_view_name": "StyleView",
      "description_width": ""
     }
    },
    "667d99be9982440da50b7c8c222b097b": {
     "model_module": "@jupyter-widgets/controls",
     "model_module_version": "1.5.0",
     "model_name": "DescriptionStyleModel",
     "state": {
      "_model_module": "@jupyter-widgets/controls",
      "_model_module_version": "1.5.0",
      "_model_name": "DescriptionStyleModel",
      "_view_count": null,
      "_view_module": "@jupyter-widgets/base",
      "_view_module_version": "1.2.0",
      "_view_name": "StyleView",
      "description_width": ""
     }
    },
    "696613a8a9854374b1a46db0fc1b992d": {
     "model_module": "@jupyter-widgets/controls",
     "model_module_version": "1.5.0",
     "model_name": "FloatProgressModel",
     "state": {
      "_dom_classes": [],
      "_model_module": "@jupyter-widgets/controls",
      "_model_module_version": "1.5.0",
      "_model_name": "FloatProgressModel",
      "_view_count": null,
      "_view_module": "@jupyter-widgets/controls",
      "_view_module_version": "1.5.0",
      "_view_name": "ProgressView",
      "bar_style": "success",
      "description": "",
      "description_tooltip": null,
      "layout": "IPY_MODEL_3cb19b72401540e198e62582fe924e78",
      "max": 1000,
      "min": 0,
      "orientation": "horizontal",
      "style": "IPY_MODEL_fddfc5c9a0f04beebd58c1089416606f",
      "value": 1000
     }
    },
    "6a91e3f6fe524341a07073eba3352bc5": {
     "model_module": "@jupyter-widgets/base",
     "model_module_version": "1.2.0",
     "model_name": "LayoutModel",
     "state": {
      "_model_module": "@jupyter-widgets/base",
      "_model_module_version": "1.2.0",
      "_model_name": "LayoutModel",
      "_view_count": null,
      "_view_module": "@jupyter-widgets/base",
      "_view_module_version": "1.2.0",
      "_view_name": "LayoutView",
      "align_content": null,
      "align_items": null,
      "align_self": null,
      "border": null,
      "bottom": null,
      "display": null,
      "flex": null,
      "flex_flow": null,
      "grid_area": null,
      "grid_auto_columns": null,
      "grid_auto_flow": null,
      "grid_auto_rows": null,
      "grid_column": null,
      "grid_gap": null,
      "grid_row": null,
      "grid_template_areas": null,
      "grid_template_columns": null,
      "grid_template_rows": null,
      "height": null,
      "justify_content": null,
      "justify_items": null,
      "left": null,
      "margin": null,
      "max_height": null,
      "max_width": null,
      "min_height": null,
      "min_width": null,
      "object_fit": null,
      "object_position": null,
      "order": null,
      "overflow": null,
      "overflow_x": null,
      "overflow_y": null,
      "padding": null,
      "right": null,
      "top": null,
      "visibility": null,
      "width": null
     }
    },
    "6fce9a1e14b6422198589763df9e69fd": {
     "model_module": "@jupyter-widgets/base",
     "model_module_version": "1.2.0",
     "model_name": "LayoutModel",
     "state": {
      "_model_module": "@jupyter-widgets/base",
      "_model_module_version": "1.2.0",
      "_model_name": "LayoutModel",
      "_view_count": null,
      "_view_module": "@jupyter-widgets/base",
      "_view_module_version": "1.2.0",
      "_view_name": "LayoutView",
      "align_content": null,
      "align_items": null,
      "align_self": null,
      "border": null,
      "bottom": null,
      "display": null,
      "flex": null,
      "flex_flow": null,
      "grid_area": null,
      "grid_auto_columns": null,
      "grid_auto_flow": null,
      "grid_auto_rows": null,
      "grid_column": null,
      "grid_gap": null,
      "grid_row": null,
      "grid_template_areas": null,
      "grid_template_columns": null,
      "grid_template_rows": null,
      "height": null,
      "justify_content": null,
      "justify_items": null,
      "left": null,
      "margin": null,
      "max_height": null,
      "max_width": null,
      "min_height": null,
      "min_width": null,
      "object_fit": null,
      "object_position": null,
      "order": null,
      "overflow": null,
      "overflow_x": null,
      "overflow_y": null,
      "padding": null,
      "right": null,
      "top": null,
      "visibility": null,
      "width": null
     }
    },
    "75cd8bfaed164c4284406a9fbe5c06b1": {
     "model_module": "@jupyter-widgets/base",
     "model_module_version": "1.2.0",
     "model_name": "LayoutModel",
     "state": {
      "_model_module": "@jupyter-widgets/base",
      "_model_module_version": "1.2.0",
      "_model_name": "LayoutModel",
      "_view_count": null,
      "_view_module": "@jupyter-widgets/base",
      "_view_module_version": "1.2.0",
      "_view_name": "LayoutView",
      "align_content": null,
      "align_items": null,
      "align_self": null,
      "border": null,
      "bottom": null,
      "display": null,
      "flex": null,
      "flex_flow": null,
      "grid_area": null,
      "grid_auto_columns": null,
      "grid_auto_flow": null,
      "grid_auto_rows": null,
      "grid_column": null,
      "grid_gap": null,
      "grid_row": null,
      "grid_template_areas": null,
      "grid_template_columns": null,
      "grid_template_rows": null,
      "height": null,
      "justify_content": null,
      "justify_items": null,
      "left": null,
      "margin": null,
      "max_height": null,
      "max_width": null,
      "min_height": null,
      "min_width": null,
      "object_fit": null,
      "object_position": null,
      "order": null,
      "overflow": null,
      "overflow_x": null,
      "overflow_y": null,
      "padding": null,
      "right": null,
      "top": null,
      "visibility": null,
      "width": null
     }
    },
    "77b8e103bf9c47f8aa80cfd20af073f4": {
     "model_module": "@jupyter-widgets/base",
     "model_module_version": "1.2.0",
     "model_name": "LayoutModel",
     "state": {
      "_model_module": "@jupyter-widgets/base",
      "_model_module_version": "1.2.0",
      "_model_name": "LayoutModel",
      "_view_count": null,
      "_view_module": "@jupyter-widgets/base",
      "_view_module_version": "1.2.0",
      "_view_name": "LayoutView",
      "align_content": null,
      "align_items": null,
      "align_self": null,
      "border": null,
      "bottom": null,
      "display": null,
      "flex": null,
      "flex_flow": null,
      "grid_area": null,
      "grid_auto_columns": null,
      "grid_auto_flow": null,
      "grid_auto_rows": null,
      "grid_column": null,
      "grid_gap": null,
      "grid_row": null,
      "grid_template_areas": null,
      "grid_template_columns": null,
      "grid_template_rows": null,
      "height": null,
      "justify_content": null,
      "justify_items": null,
      "left": null,
      "margin": null,
      "max_height": null,
      "max_width": null,
      "min_height": null,
      "min_width": null,
      "object_fit": null,
      "object_position": null,
      "order": null,
      "overflow": null,
      "overflow_x": null,
      "overflow_y": null,
      "padding": null,
      "right": null,
      "top": null,
      "visibility": null,
      "width": null
     }
    },
    "7a4bab5ed84e426d85132b4cf9d7719e": {
     "model_module": "@jupyter-widgets/controls",
     "model_module_version": "1.5.0",
     "model_name": "ProgressStyleModel",
     "state": {
      "_model_module": "@jupyter-widgets/controls",
      "_model_module_version": "1.5.0",
      "_model_name": "ProgressStyleModel",
      "_view_count": null,
      "_view_module": "@jupyter-widgets/base",
      "_view_module_version": "1.2.0",
      "_view_name": "StyleView",
      "bar_color": null,
      "description_width": ""
     }
    },
    "820ab0e5ebee46c78ab4bb99b218164f": {
     "model_module": "@jupyter-widgets/base",
     "model_module_version": "1.2.0",
     "model_name": "LayoutModel",
     "state": {
      "_model_module": "@jupyter-widgets/base",
      "_model_module_version": "1.2.0",
      "_model_name": "LayoutModel",
      "_view_count": null,
      "_view_module": "@jupyter-widgets/base",
      "_view_module_version": "1.2.0",
      "_view_name": "LayoutView",
      "align_content": null,
      "align_items": null,
      "align_self": null,
      "border": null,
      "bottom": null,
      "display": null,
      "flex": null,
      "flex_flow": null,
      "grid_area": null,
      "grid_auto_columns": null,
      "grid_auto_flow": null,
      "grid_auto_rows": null,
      "grid_column": null,
      "grid_gap": null,
      "grid_row": null,
      "grid_template_areas": null,
      "grid_template_columns": null,
      "grid_template_rows": null,
      "height": null,
      "justify_content": null,
      "justify_items": null,
      "left": null,
      "margin": null,
      "max_height": null,
      "max_width": null,
      "min_height": null,
      "min_width": null,
      "object_fit": null,
      "object_position": null,
      "order": null,
      "overflow": null,
      "overflow_x": null,
      "overflow_y": null,
      "padding": null,
      "right": null,
      "top": null,
      "visibility": null,
      "width": null
     }
    },
    "84af6a13b17547ffa19e60ed28d42030": {
     "model_module": "@jupyter-widgets/controls",
     "model_module_version": "1.5.0",
     "model_name": "HBoxModel",
     "state": {
      "_dom_classes": [],
      "_model_module": "@jupyter-widgets/controls",
      "_model_module_version": "1.5.0",
      "_model_name": "HBoxModel",
      "_view_count": null,
      "_view_module": "@jupyter-widgets/controls",
      "_view_module_version": "1.5.0",
      "_view_name": "HBoxView",
      "box_style": "",
      "children": [
       "IPY_MODEL_0adb26c0853848958d7f72db4d79e394",
       "IPY_MODEL_881aaa4fc3684fbc94e3cdda1475d956",
       "IPY_MODEL_da90ea482338418bbf451c8599328bd8"
      ],
      "layout": "IPY_MODEL_4b02f66dee9643c6af1ae5f7d25c489d"
     }
    },
    "881aaa4fc3684fbc94e3cdda1475d956": {
     "model_module": "@jupyter-widgets/controls",
     "model_module_version": "1.5.0",
     "model_name": "FloatProgressModel",
     "state": {
      "_dom_classes": [],
      "_model_module": "@jupyter-widgets/controls",
      "_model_module_version": "1.5.0",
      "_model_name": "FloatProgressModel",
      "_view_count": null,
      "_view_module": "@jupyter-widgets/controls",
      "_view_module_version": "1.5.0",
      "_view_name": "ProgressView",
      "bar_style": "success",
      "description": "",
      "description_tooltip": null,
      "layout": "IPY_MODEL_0138948d697e422e940e26bbad1558a7",
      "max": 50,
      "min": 0,
      "orientation": "horizontal",
      "style": "IPY_MODEL_4d2e4ae6d29147aca8ee80b30f13efb9",
      "value": 50
     }
    },
    "891739cdbccf4626bede4caaf282b364": {
     "model_module": "@jupyter-widgets/base",
     "model_module_version": "1.2.0",
     "model_name": "LayoutModel",
     "state": {
      "_model_module": "@jupyter-widgets/base",
      "_model_module_version": "1.2.0",
      "_model_name": "LayoutModel",
      "_view_count": null,
      "_view_module": "@jupyter-widgets/base",
      "_view_module_version": "1.2.0",
      "_view_name": "LayoutView",
      "align_content": null,
      "align_items": null,
      "align_self": null,
      "border": null,
      "bottom": null,
      "display": null,
      "flex": null,
      "flex_flow": null,
      "grid_area": null,
      "grid_auto_columns": null,
      "grid_auto_flow": null,
      "grid_auto_rows": null,
      "grid_column": null,
      "grid_gap": null,
      "grid_row": null,
      "grid_template_areas": null,
      "grid_template_columns": null,
      "grid_template_rows": null,
      "height": null,
      "justify_content": null,
      "justify_items": null,
      "left": null,
      "margin": null,
      "max_height": null,
      "max_width": null,
      "min_height": null,
      "min_width": null,
      "object_fit": null,
      "object_position": null,
      "order": null,
      "overflow": null,
      "overflow_x": null,
      "overflow_y": null,
      "padding": null,
      "right": null,
      "top": null,
      "visibility": null,
      "width": null
     }
    },
    "9fd5a9194dc041e7b790dbddaf0ed036": {
     "model_module": "@jupyter-widgets/controls",
     "model_module_version": "1.5.0",
     "model_name": "HTMLModel",
     "state": {
      "_dom_classes": [],
      "_model_module": "@jupyter-widgets/controls",
      "_model_module_version": "1.5.0",
      "_model_name": "HTMLModel",
      "_view_count": null,
      "_view_module": "@jupyter-widgets/controls",
      "_view_module_version": "1.5.0",
      "_view_name": "HTMLView",
      "description": "",
      "description_tooltip": null,
      "layout": "IPY_MODEL_0dc1af2ea97f43e78f48880ddd053ec6",
      "placeholder": "​",
      "style": "IPY_MODEL_667d99be9982440da50b7c8c222b097b",
      "value": " 100/100 [00:02&lt;00:00, 45.11it/s]"
     }
    },
    "ab3b17a798f44df49cf4440f1ff402e7": {
     "model_module": "@jupyter-widgets/base",
     "model_module_version": "1.2.0",
     "model_name": "LayoutModel",
     "state": {
      "_model_module": "@jupyter-widgets/base",
      "_model_module_version": "1.2.0",
      "_model_name": "LayoutModel",
      "_view_count": null,
      "_view_module": "@jupyter-widgets/base",
      "_view_module_version": "1.2.0",
      "_view_name": "LayoutView",
      "align_content": null,
      "align_items": null,
      "align_self": null,
      "border": null,
      "bottom": null,
      "display": null,
      "flex": null,
      "flex_flow": null,
      "grid_area": null,
      "grid_auto_columns": null,
      "grid_auto_flow": null,
      "grid_auto_rows": null,
      "grid_column": null,
      "grid_gap": null,
      "grid_row": null,
      "grid_template_areas": null,
      "grid_template_columns": null,
      "grid_template_rows": null,
      "height": null,
      "justify_content": null,
      "justify_items": null,
      "left": null,
      "margin": null,
      "max_height": null,
      "max_width": null,
      "min_height": null,
      "min_width": null,
      "object_fit": null,
      "object_position": null,
      "order": null,
      "overflow": null,
      "overflow_x": null,
      "overflow_y": null,
      "padding": null,
      "right": null,
      "top": null,
      "visibility": null,
      "width": null
     }
    },
    "b9311ebb44f34124ba788d5e75a71056": {
     "model_module": "@jupyter-widgets/controls",
     "model_module_version": "1.5.0",
     "model_name": "HTMLModel",
     "state": {
      "_dom_classes": [],
      "_model_module": "@jupyter-widgets/controls",
      "_model_module_version": "1.5.0",
      "_model_name": "HTMLModel",
      "_view_count": null,
      "_view_module": "@jupyter-widgets/controls",
      "_view_module_version": "1.5.0",
      "_view_name": "HTMLView",
      "description": "",
      "description_tooltip": null,
      "layout": "IPY_MODEL_3ba85fb2dbea4aadbd4e27f793804b1f",
      "placeholder": "​",
      "style": "IPY_MODEL_dc17d7cc29b04263ad08a6558a786d25",
      "value": "100%"
     }
    },
    "c3015c68746d4982bdd895cd63b96019": {
     "model_module": "@jupyter-widgets/controls",
     "model_module_version": "1.5.0",
     "model_name": "ProgressStyleModel",
     "state": {
      "_model_module": "@jupyter-widgets/controls",
      "_model_module_version": "1.5.0",
      "_model_name": "ProgressStyleModel",
      "_view_count": null,
      "_view_module": "@jupyter-widgets/base",
      "_view_module_version": "1.2.0",
      "_view_name": "StyleView",
      "bar_color": null,
      "description_width": ""
     }
    },
    "c642dcaa58a844acacef31f1f512bb8d": {
     "model_module": "@jupyter-widgets/controls",
     "model_module_version": "1.5.0",
     "model_name": "HTMLModel",
     "state": {
      "_dom_classes": [],
      "_model_module": "@jupyter-widgets/controls",
      "_model_module_version": "1.5.0",
      "_model_name": "HTMLModel",
      "_view_count": null,
      "_view_module": "@jupyter-widgets/controls",
      "_view_module_version": "1.5.0",
      "_view_name": "HTMLView",
      "description": "",
      "description_tooltip": null,
      "layout": "IPY_MODEL_820ab0e5ebee46c78ab4bb99b218164f",
      "placeholder": "​",
      "style": "IPY_MODEL_50f2e162a70a451f9fa6ebcd81db9192",
      "value": "100%"
     }
    },
    "c9696b967f364f4e85f191ac7d0e9e3a": {
     "model_module": "@jupyter-widgets/controls",
     "model_module_version": "1.5.0",
     "model_name": "HBoxModel",
     "state": {
      "_dom_classes": [],
      "_model_module": "@jupyter-widgets/controls",
      "_model_module_version": "1.5.0",
      "_model_name": "HBoxModel",
      "_view_count": null,
      "_view_module": "@jupyter-widgets/controls",
      "_view_module_version": "1.5.0",
      "_view_name": "HBoxView",
      "box_style": "",
      "children": [
       "IPY_MODEL_c642dcaa58a844acacef31f1f512bb8d",
       "IPY_MODEL_186798986e7b46f9bca0e8b15ee60f07",
       "IPY_MODEL_9fd5a9194dc041e7b790dbddaf0ed036"
      ],
      "layout": "IPY_MODEL_77b8e103bf9c47f8aa80cfd20af073f4"
     }
    },
    "d135d3917ca0446f80da0b6f575c5563": {
     "model_module": "@jupyter-widgets/controls",
     "model_module_version": "1.5.0",
     "model_name": "HTMLModel",
     "state": {
      "_dom_classes": [],
      "_model_module": "@jupyter-widgets/controls",
      "_model_module_version": "1.5.0",
      "_model_name": "HTMLModel",
      "_view_count": null,
      "_view_module": "@jupyter-widgets/controls",
      "_view_module_version": "1.5.0",
      "_view_name": "HTMLView",
      "description": "",
      "description_tooltip": null,
      "layout": "IPY_MODEL_891739cdbccf4626bede4caaf282b364",
      "placeholder": "​",
      "style": "IPY_MODEL_1345a019f1b045318969e76ecaedab51",
      "value": " 50/50 [01:48&lt;00:00,  1.97s/it]"
     }
    },
    "da90ea482338418bbf451c8599328bd8": {
     "model_module": "@jupyter-widgets/controls",
     "model_module_version": "1.5.0",
     "model_name": "HTMLModel",
     "state": {
      "_dom_classes": [],
      "_model_module": "@jupyter-widgets/controls",
      "_model_module_version": "1.5.0",
      "_model_name": "HTMLModel",
      "_view_count": null,
      "_view_module": "@jupyter-widgets/controls",
      "_view_module_version": "1.5.0",
      "_view_name": "HTMLView",
      "description": "",
      "description_tooltip": null,
      "layout": "IPY_MODEL_75cd8bfaed164c4284406a9fbe5c06b1",
      "placeholder": "​",
      "style": "IPY_MODEL_1cbca849a618457ebb08dd9d48761712",
      "value": " 50/50 [01:31&lt;00:00,  1.64s/it]"
     }
    },
    "dc17d7cc29b04263ad08a6558a786d25": {
     "model_module": "@jupyter-widgets/controls",
     "model_module_version": "1.5.0",
     "model_name": "DescriptionStyleModel",
     "state": {
      "_model_module": "@jupyter-widgets/controls",
      "_model_module_version": "1.5.0",
      "_model_name": "DescriptionStyleModel",
      "_view_count": null,
      "_view_module": "@jupyter-widgets/base",
      "_view_module_version": "1.2.0",
      "_view_name": "StyleView",
      "description_width": ""
     }
    },
    "e0dcd630d9014fb396aee8d5fce9926e": {
     "model_module": "@jupyter-widgets/controls",
     "model_module_version": "1.5.0",
     "model_name": "DescriptionStyleModel",
     "state": {
      "_model_module": "@jupyter-widgets/controls",
      "_model_module_version": "1.5.0",
      "_model_name": "DescriptionStyleModel",
      "_view_count": null,
      "_view_module": "@jupyter-widgets/base",
      "_view_module_version": "1.2.0",
      "_view_name": "StyleView",
      "description_width": ""
     }
    },
    "eea3f60376a243c59e79638511871b89": {
     "model_module": "@jupyter-widgets/controls",
     "model_module_version": "1.5.0",
     "model_name": "DescriptionStyleModel",
     "state": {
      "_model_module": "@jupyter-widgets/controls",
      "_model_module_version": "1.5.0",
      "_model_name": "DescriptionStyleModel",
      "_view_count": null,
      "_view_module": "@jupyter-widgets/base",
      "_view_module_version": "1.2.0",
      "_view_name": "StyleView",
      "description_width": ""
     }
    },
    "f8e7ad3e7f5a4e959001da1beba14eaa": {
     "model_module": "@jupyter-widgets/controls",
     "model_module_version": "1.5.0",
     "model_name": "HBoxModel",
     "state": {
      "_dom_classes": [],
      "_model_module": "@jupyter-widgets/controls",
      "_model_module_version": "1.5.0",
      "_model_name": "HBoxModel",
      "_view_count": null,
      "_view_module": "@jupyter-widgets/controls",
      "_view_module_version": "1.5.0",
      "_view_name": "HBoxView",
      "box_style": "",
      "children": [
       "IPY_MODEL_46ef24542d6c4b6f8f4d7816d5b15315",
       "IPY_MODEL_696613a8a9854374b1a46db0fc1b992d",
       "IPY_MODEL_3f8968c235fa46de9fbd64082b8b1e6b"
      ],
      "layout": "IPY_MODEL_6fce9a1e14b6422198589763df9e69fd"
     }
    },
    "fddfc5c9a0f04beebd58c1089416606f": {
     "model_module": "@jupyter-widgets/controls",
     "model_module_version": "1.5.0",
     "model_name": "ProgressStyleModel",
     "state": {
      "_model_module": "@jupyter-widgets/controls",
      "_model_module_version": "1.5.0",
      "_model_name": "ProgressStyleModel",
      "_view_count": null,
      "_view_module": "@jupyter-widgets/base",
      "_view_module_version": "1.2.0",
      "_view_name": "StyleView",
      "bar_color": null,
      "description_width": ""
     }
    }
   }
  }
 },
 "nbformat": 4,
 "nbformat_minor": 4
}
